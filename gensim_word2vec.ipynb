{
  "nbformat": 4,
  "nbformat_minor": 0,
  "metadata": {
    "colab": {
      "name": "Untitled27.ipynb",
      "provenance": [],
      "authorship_tag": "ABX9TyP2PnSkSEhJypYYnkmU0Cd4",
      "include_colab_link": true
    },
    "kernelspec": {
      "name": "python3",
      "display_name": "Python 3"
    },
    "language_info": {
      "name": "python"
    }
  },
  "cells": [
    {
      "cell_type": "markdown",
      "metadata": {
        "id": "view-in-github",
        "colab_type": "text"
      },
      "source": [
        "<a href=\"https://colab.research.google.com/github/Hou-jing/-repository-experiment/blob/main/gensim_word2vec.ipynb\" target=\"_parent\"><img src=\"https://colab.research.google.com/assets/colab-badge.svg\" alt=\"Open In Colab\"/></a>"
      ]
    },
    {
      "cell_type": "code",
      "metadata": {
        "id": "0ubljfswf_Rb",
        "colab": {
          "base_uri": "https://localhost:8080/"
        },
        "outputId": "a22f31c0-3842-48c2-c53d-f4b3de320ad1"
      },
      "source": [
        "#测试，如果句子的词在语料库中没有体现，则用UNK表示。\n",
        "sentence=\"sen. charles e. schumer called on federal safety officials yesterday to reopen their investigation into the fatal \"\n",
        "word2id={'UNK': 0, 'PAD': 1, ',': 2, '.': 3, 'the': 4, 'of': 5, 'a': 6, 'and': 7, 'to': 8, 'in': 9, 'for': 10, 'on': 11, 'he': 12, 'with': 13, 'was': 14, 'at': 15, 'his': 16, 'but': 17, ':': 18, 'an': 19, 'have': 20, 'not': 21, ';': 22, 'one': 23}\n",
        "word =[]\n",
        "sentence=sentence.split()\n",
        "for  i in range(len(sentence)):\n",
        "    word.append(word2id.get(sentence[i],word2id['UNK']))\n",
        "print(word)"
      ],
      "execution_count": null,
      "outputs": [
        {
          "output_type": "stream",
          "name": "stdout",
          "text": [
            "[0, 0, 0, 0, 0, 11, 0, 0, 0, 0, 8, 0, 0, 0, 0, 4, 0]\n"
          ]
        }
      ]
    },
    {
      "cell_type": "code",
      "metadata": {
        "id": "b3WQxWaEbFd1"
      },
      "source": [
        "import gensim\n",
        "from gensim.models import Word2Vec\n",
        "sentence='In relation extraction,  the main challenges arethat the length of the sentences is variable and theimportant  information  can  appear  in  any  area '\n",
        "word=Word2Vec(sentence,min_count=1,size=20)"
      ],
      "execution_count": null,
      "outputs": []
    },
    {
      "cell_type": "code",
      "metadata": {
        "colab": {
          "base_uri": "https://localhost:8080/"
        },
        "id": "ZGDHEBCCbyQe",
        "outputId": "4c0ebe5f-4da5-4700-9808-ed000e08ae42"
      },
      "source": [
        "print(word.wv.index2word)\n",
        "print(word.wv.vocab)\n",
        "print(word.wv.word_id)"
      ],
      "execution_count": null,
      "outputs": [
        {
          "output_type": "stream",
          "name": "stdout",
          "text": [
            "[' ', 'a', 'e', 'n', 't', 'i', 'r', 'h', 'o', 'l', 'c', 's', 'm', 'p', 'g', 'f', 'I', 'x', ',', 'v', 'b', 'd', 'y']\n",
            "{'I': <gensim.models.keyedvectors.Vocab object at 0x7fb4705dbed0>, 'n': <gensim.models.keyedvectors.Vocab object at 0x7fb4705db1d0>, ' ': <gensim.models.keyedvectors.Vocab object at 0x7fb4705dba50>, 'r': <gensim.models.keyedvectors.Vocab object at 0x7fb4705db3d0>, 'e': <gensim.models.keyedvectors.Vocab object at 0x7fb4705dbe50>, 'l': <gensim.models.keyedvectors.Vocab object at 0x7fb4705db6d0>, 'a': <gensim.models.keyedvectors.Vocab object at 0x7fb4705db290>, 't': <gensim.models.keyedvectors.Vocab object at 0x7fb473100c50>, 'i': <gensim.models.keyedvectors.Vocab object at 0x7fb4705dbad0>, 'o': <gensim.models.keyedvectors.Vocab object at 0x7fb4705dbdd0>, 'x': <gensim.models.keyedvectors.Vocab object at 0x7fb473100290>, 'c': <gensim.models.keyedvectors.Vocab object at 0x7fb4731004d0>, ',': <gensim.models.keyedvectors.Vocab object at 0x7fb473100110>, 'h': <gensim.models.keyedvectors.Vocab object at 0x7fb4752ede90>, 'm': <gensim.models.keyedvectors.Vocab object at 0x7fb474181490>, 'g': <gensim.models.keyedvectors.Vocab object at 0x7fb470572710>, 's': <gensim.models.keyedvectors.Vocab object at 0x7fb470572d10>, 'f': <gensim.models.keyedvectors.Vocab object at 0x7fb470572810>, 'v': <gensim.models.keyedvectors.Vocab object at 0x7fb47051f590>, 'b': <gensim.models.keyedvectors.Vocab object at 0x7fb47051ff50>, 'd': <gensim.models.keyedvectors.Vocab object at 0x7fb47051f090>, 'p': <gensim.models.keyedvectors.Vocab object at 0x7fb47051f490>, 'y': <gensim.models.keyedvectors.Vocab object at 0x7fb47051f850>}\n"
          ]
        }
      ]
    },
    {
      "cell_type": "code",
      "metadata": {
        "colab": {
          "base_uri": "https://localhost:8080/"
        },
        "id": "wl_9pCF9dVAv",
        "outputId": "ca78ec99-cef4-490b-aa0a-23b82378a002"
      },
      "source": [
        "vector=word.wv.vectors\n",
        "print(vector.shape)\n",
        "print(vector[1])"
      ],
      "execution_count": null,
      "outputs": [
        {
          "output_type": "stream",
          "name": "stdout",
          "text": [
            "(23, 20)\n",
            "[-0.02257279 -0.01092965  0.0021569   0.02448056  0.00866412 -0.02229498\n",
            "  0.02376947 -0.0141708   0.00994223 -0.00114433 -0.02291848 -0.01889386\n",
            " -0.00694096  0.01274357 -0.02374743 -0.02352878  0.02284358  0.00368763\n",
            " -0.01846884 -0.00944794]\n"
          ]
        }
      ]
    },
    {
      "cell_type": "code",
      "metadata": {
        "id": "ejvGpqSydjnf"
      },
      "source": [
        "\n",
        "#对句子进行编码\n",
        "import numpy as np\n",
        "sentence='In relation extraction,  the main challenges arethat the length of the sentences is variable and theimportant  information  can  appear  in  any  area '\n",
        "sentence=sentence.split()\n",
        "e1='sentences'\n",
        "e2='area'\n",
        "sentence_vector=[]\n",
        "for i in range(len(sentence)):\n",
        "  if sentence[i]==e1:\n",
        "    p_1=i\n",
        "  if sentence[i]==e2:\n",
        "    p_2=i\n",
        "print(p_1,p_2,len(sentence))\n",
        "print(vector[0])\n",
        "for i in range(len(sentence)):  \n",
        "  word_1=np.abs(i-p_1)\n",
        "  word_2=np.abs(i-p_2)\n",
        "\n",
        "  word_vector=vector[i]+word_1+word_2\n",
        "  sentence_vector.append(word_vector)\n",
        "print('最后一次的位置',word_1,word_2)\n",
        "print(sentence_vector[1])\n",
        "  \n",
        "\n"
      ],
      "execution_count": null,
      "outputs": []
    },
    {
      "cell_type": "code",
      "metadata": {
        "id": "oyC-cke2hc8_"
      },
      "source": [
        ""
      ],
      "execution_count": null,
      "outputs": []
    }
  ]
}